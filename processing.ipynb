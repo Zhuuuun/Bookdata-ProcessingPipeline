{
 "cells": [
  {
   "cell_type": "code",
   "execution_count": 1,
   "id": "e657d6e8",
   "metadata": {},
   "outputs": [
    {
     "name": "stderr",
     "output_type": "stream",
     "text": [
      "23/06/18 14:06:36 WARN SparkSession: Using an existing Spark session; only runtime SQL configurations will take effect.\n"
     ]
    }
   ],
   "source": [
    "from pyspark.sql import SparkSession\n",
    "from pyspark.sql.functions import *\n",
    "spark = SparkSession.builder.master(\"local[*]\").getOrCreate()"
   ]
  },
  {
   "cell_type": "code",
   "execution_count": 22,
   "id": "289195d6",
   "metadata": {},
   "outputs": [
    {
     "name": "stderr",
     "output_type": "stream",
     "text": [
      "                                                                                \r"
     ]
    }
   ],
   "source": [
    "book_df = spark.read.csv('gs://process-data-bucket/output/book_data.csv',header=True,inferSchema=True)\n",
    "transaction_df = spark.read.csv('gs://process-data-bucket/output/transaction_data.csv',header=True,inferSchema=True)\n",
    "conversion_df = spark.read.csv('gs://process-data-bucket/output/conversion_rate_data.csv',header=True,inferSchema=True)"
   ]
  },
  {
   "cell_type": "code",
   "execution_count": 3,
   "id": "94a595b9",
   "metadata": {},
   "outputs": [
    {
     "name": "stderr",
     "output_type": "stream",
     "text": [
      "\r",
      "[Stage 6:>                                                          (0 + 1) / 1]\r",
      "\r",
      "                                                                                \r"
     ]
    },
    {
     "name": "stdout",
     "output_type": "stream",
     "text": [
      "+-------------------+--------+-------+--------------------+--------------------+--------------------+------------------+-------------------+------------------+--------------------+--------------------+------+--------------------+-------+----------+\n",
      "|          timestamp| user_id|book_id|             country|          Book Title|       Book Subtitle|       Book Author|      Book Narrator|     Audio Runtime|      Audiobook_Type|          Categories|Rating|Total No. of Ratings|  Price|      date|\n",
      "+-------------------+--------+-------+--------------------+--------------------+--------------------+------------------+-------------------+------------------+--------------------+--------------------+------+--------------------+-------+----------+\n",
      "|2021-05-01 00:00:01|ad8eca41|   1584|            Portugal|        Sycamore Row|                null|      John Grisham|       Michael Beck|20 hrs and 46 mins|Unabridged Audiobook|Mystery, Thriller...|   4.6|             25863.0|$35.00 |2021-05-01|\n",
      "|2021-05-01 00:00:03|561b26c1|    829|United States of ...|The 5 Love Langua...|The Secret to Lov...|      Gary Chapman|        Chris Fabry| 5 hrs and 48 mins|Unabridged Audiobook|Relationships, Pa...|   4.8|              2441.0|$19.59 |2021-05-01|\n",
      "|2021-05-01 00:00:04|81f149e5|   1391|               Japan|       The Guardians|             A Novel|      John Grisham|       Michael Beck|11 hrs and 50 mins|Unabridged Audiobook|Mystery, Thriller...|   4.6|             26781.0|$31.50 |2021-05-01|\n",
      "|2021-05-01 00:00:07|4f218413|   1586|              Taiwan|  How to Be a 3% Man|                null|       Corey Wayne|        Corey Wayne| 7 hrs and 33 mins|Unabridged Audiobook|Relationships, Pa...|   4.8|             11459.0|$19.95 |2021-05-01|\n",
      "|2021-05-01 00:00:18|a4066781|    300|United States of ...|Napoleon Hill's O...|The Secret to Fre...|     Napoleon Hill|    Dan John Miller| 5 hrs and 51 mins|Unabridged Audiobook|  Business & Careers|   4.8|              9305.0|$17.49 |2021-05-01|\n",
      "|2021-05-01 00:00:21|bbbd603a|   1377|United States of ...|       The Institute|             A Novel|      Stephen King|    Santino Fontana|18 hrs and 59 mins|Unabridged Audiobook|Literature & Fiction|   4.6|             35443.0|$34.99 |2021-05-01|\n",
      "|2021-05-01 00:00:22|f636754b|    342|              Canada|    A Clash of Kings|A Song of Ice and...|George R.R. Martin|        Roy Dotrice|37 hrs and 12 mins|Unabridged Audiobook|Science Fiction &...|   4.8|             79031.0|$63.00 |2021-05-01|\n",
      "|2021-05-01 00:00:26|0eea4bbd|   1600|United States of ...|               Exile|Legend of Drizzt:...|   R. A. Salvatore|      Victor Bevine|10 hrs and 42 mins|Unabridged Audiobook|Science Fiction &...|   4.7|              9241.0|$24.95 |2021-05-01|\n",
      "|2021-05-01 00:00:26|30b900d5|   1556|             Algeria|Arcanum Unbounded...|                null| Brandon Sanderson|     Michael Kramer|22 hrs and 31 mins|Unabridged Audiobook|Literature & Fiction|   4.8|             14108.0|$48.99 |2021-05-01|\n",
      "|2021-05-01 00:00:28|a208d42a|    790|United States of ...|         Dark Matter|             A Novel|      Blake Crouch|      Jon Lindstrom| 10 hrs and 8 mins|Unabridged Audiobook|Mystery, Thriller...|   4.4|             23618.0|$28.00 |2021-05-01|\n",
      "|2021-05-01 00:00:31|1d4e0721|    630|              Canada|    The Final Empire|     Mistborn Book 1| Brandon Sanderson|     Michael Kramer|24 hrs and 39 mins|Unabridged Audiobook|Science Fiction &...|   4.8|             65789.0|$55.93 |2021-05-01|\n",
      "|2021-05-01 00:00:34|9711795f|   1561|              France|        Morning Star|Book III of the R...|      Pierce Brown|Tim Gerard Reynolds|21 hrs and 50 mins|Unabridged Audiobook|Science Fiction &...|   4.8|             36539.0|$31.49 |2021-05-01|\n",
      "|2021-05-01 00:00:40|9901d75d|    788|             Jamaica|        Freakonomics|     Revised Edition|  Steven D. Levitt|  Stephen J. Dubner| 7 hrs and 51 mins|Unabridged Audiobook|     Money & Finance|   4.4|             11050.0|$27.37 |2021-05-01|\n",
      "|2021-05-01 00:00:46|790ad1df|    524|         New Zealand|     The Kite Runner|                null|   Khaled Hosseini|    Khaled Hosseini|  12 hrs and 1 min|Unabridged Audiobook|Literature & Fiction|   4.6|             16164.0|$31.93 |2021-05-01|\n",
      "|2021-05-01 00:00:47|980adb4b|     74|     United Kingdom |                Dune|                null|     Frank Herbert|        Scott Brick| 21 hrs and 2 mins|Unabridged Audiobook|Science Fiction &...|   4.6|             73222.0|$47.93 |2021-05-01|\n",
      "|2021-05-01 00:00:48|648070f7|    771|             Austria|       The Stone Sky|                null|     N. K. Jemisin|        Robin Miles|14 hrs and 16 mins|Unabridged Audiobook|Literature & Fiction|   4.6|             10045.0|$28.50 |2021-05-01|\n",
      "|2021-05-01 00:00:52|69516255|    558|         South Korea|Harry Potter and ...|                null|      J.K. Rowling|           Jim Dale|18 hrs and 32 mins|Unabridged Audiobook|Children's Audiob...|   4.9|             72599.0|$44.99 |2021-05-01|\n",
      "|2021-05-01 00:01:00|baf598c3|   1429|         Philippines|          11/22/1963|             A Novel|      Stephen King|       Craig Wasson|30 hrs and 40 mins|Unabridged Audiobook|Mystery, Thriller...|   4.6|             59283.0|$52.50 |2021-05-01|\n",
      "|2021-05-01 00:01:02|4c9c8d9b|    221|         Netherlands|Where the Crawdad...|                null|       Delia Owens| Cassandra Campbell|12 hrs and 12 mins|Unabridged Audiobook|Literature & Fiction|   4.8|            191898.0|$31.50 |2021-05-01|\n",
      "|2021-05-01 00:01:03|72a6267e|     70|          Montenegro|The Midnight Library|             A Novel|         Matt Haig|     Carey Mulligan| 8 hrs and 50 mins|Unabridged Audiobook|Science Fiction &...|   4.6|             21253.0|$28.00 |2021-05-01|\n",
      "+-------------------+--------+-------+--------------------+--------------------+--------------------+------------------+-------------------+------------------+--------------------+--------------------+------+--------------------+-------+----------+\n",
      "only showing top 20 rows\n",
      "\n"
     ]
    }
   ],
   "source": [
    "#change col name to remove after join\n",
    "book_df = book_df.withColumnRenamed('Book_ID','join_temp')\n",
    "\n",
    "df = transaction_df.join(book_df,transaction_df.book_id==book_df.join_temp,\"left\")\n",
    "df = df.drop('join_temp')\n",
    "df = df.withColumn('date',to_date('timestamp'))\n",
    "df.show()"
   ]
  },
  {
   "cell_type": "code",
   "execution_count": 4,
   "id": "901735b5",
   "metadata": {},
   "outputs": [
    {
     "name": "stdout",
     "output_type": "stream",
     "text": [
      "+----------+---------------+\n",
      "| join_temp|conversion_rate|\n",
      "+----------+---------------+\n",
      "|2021-04-01|         31.194|\n",
      "|2021-04-02|          31.29|\n",
      "|2021-04-03|         31.256|\n",
      "|2021-04-04|         31.244|\n",
      "|2021-04-05|         31.342|\n",
      "|2021-04-06|         31.288|\n",
      "|2021-04-07|         31.387|\n",
      "|2021-04-08|         31.433|\n",
      "|2021-04-09|         31.451|\n",
      "|2021-04-10|         31.454|\n",
      "|2021-04-11|         31.462|\n",
      "|2021-04-12|         31.482|\n",
      "|2021-04-13|         31.496|\n",
      "|2021-04-14|         31.329|\n",
      "|2021-04-15|         31.165|\n",
      "|2021-04-16|         31.203|\n",
      "|2021-04-17|         31.204|\n",
      "|2021-04-18|         31.226|\n",
      "|2021-04-19|         31.203|\n",
      "|2021-04-20|         31.281|\n",
      "+----------+---------------+\n",
      "only showing top 20 rows\n",
      "\n"
     ]
    }
   ],
   "source": [
    "temp = conversion_df\n",
    "temp = temp.withColumn('date',to_date('date'))\n",
    "temp = temp.withColumnRenamed('date','join_temp')\n",
    "temp.show()"
   ]
  },
  {
   "cell_type": "code",
   "execution_count": 5,
   "id": "27282d9c",
   "metadata": {},
   "outputs": [
    {
     "name": "stdout",
     "output_type": "stream",
     "text": [
      "+-------------------+--------+-------+--------------------+--------------------+--------------------+------------------+-------------------+------------------+--------------------+--------------------+------+--------------------+-------+----------+---------------+\n",
      "|          timestamp| user_id|book_id|             country|          Book Title|       Book Subtitle|       Book Author|      Book Narrator|     Audio Runtime|      Audiobook_Type|          Categories|Rating|Total No. of Ratings|  Price|      date|conversion_rate|\n",
      "+-------------------+--------+-------+--------------------+--------------------+--------------------+------------------+-------------------+------------------+--------------------+--------------------+------+--------------------+-------+----------+---------------+\n",
      "|2021-05-01 00:00:01|ad8eca41|   1584|            Portugal|        Sycamore Row|                null|      John Grisham|       Michael Beck|20 hrs and 46 mins|Unabridged Audiobook|Mystery, Thriller...|   4.6|             25863.0|$35.00 |2021-05-01|          31.14|\n",
      "|2021-05-01 00:00:03|561b26c1|    829|United States of ...|The 5 Love Langua...|The Secret to Lov...|      Gary Chapman|        Chris Fabry| 5 hrs and 48 mins|Unabridged Audiobook|Relationships, Pa...|   4.8|              2441.0|$19.59 |2021-05-01|          31.14|\n",
      "|2021-05-01 00:00:04|81f149e5|   1391|               Japan|       The Guardians|             A Novel|      John Grisham|       Michael Beck|11 hrs and 50 mins|Unabridged Audiobook|Mystery, Thriller...|   4.6|             26781.0|$31.50 |2021-05-01|          31.14|\n",
      "|2021-05-01 00:00:07|4f218413|   1586|              Taiwan|  How to Be a 3% Man|                null|       Corey Wayne|        Corey Wayne| 7 hrs and 33 mins|Unabridged Audiobook|Relationships, Pa...|   4.8|             11459.0|$19.95 |2021-05-01|          31.14|\n",
      "|2021-05-01 00:00:18|a4066781|    300|United States of ...|Napoleon Hill's O...|The Secret to Fre...|     Napoleon Hill|    Dan John Miller| 5 hrs and 51 mins|Unabridged Audiobook|  Business & Careers|   4.8|              9305.0|$17.49 |2021-05-01|          31.14|\n",
      "|2021-05-01 00:00:21|bbbd603a|   1377|United States of ...|       The Institute|             A Novel|      Stephen King|    Santino Fontana|18 hrs and 59 mins|Unabridged Audiobook|Literature & Fiction|   4.6|             35443.0|$34.99 |2021-05-01|          31.14|\n",
      "|2021-05-01 00:00:22|f636754b|    342|              Canada|    A Clash of Kings|A Song of Ice and...|George R.R. Martin|        Roy Dotrice|37 hrs and 12 mins|Unabridged Audiobook|Science Fiction &...|   4.8|             79031.0|$63.00 |2021-05-01|          31.14|\n",
      "|2021-05-01 00:00:26|0eea4bbd|   1600|United States of ...|               Exile|Legend of Drizzt:...|   R. A. Salvatore|      Victor Bevine|10 hrs and 42 mins|Unabridged Audiobook|Science Fiction &...|   4.7|              9241.0|$24.95 |2021-05-01|          31.14|\n",
      "|2021-05-01 00:00:26|30b900d5|   1556|             Algeria|Arcanum Unbounded...|                null| Brandon Sanderson|     Michael Kramer|22 hrs and 31 mins|Unabridged Audiobook|Literature & Fiction|   4.8|             14108.0|$48.99 |2021-05-01|          31.14|\n",
      "|2021-05-01 00:00:28|a208d42a|    790|United States of ...|         Dark Matter|             A Novel|      Blake Crouch|      Jon Lindstrom| 10 hrs and 8 mins|Unabridged Audiobook|Mystery, Thriller...|   4.4|             23618.0|$28.00 |2021-05-01|          31.14|\n",
      "|2021-05-01 00:00:31|1d4e0721|    630|              Canada|    The Final Empire|     Mistborn Book 1| Brandon Sanderson|     Michael Kramer|24 hrs and 39 mins|Unabridged Audiobook|Science Fiction &...|   4.8|             65789.0|$55.93 |2021-05-01|          31.14|\n",
      "|2021-05-01 00:00:34|9711795f|   1561|              France|        Morning Star|Book III of the R...|      Pierce Brown|Tim Gerard Reynolds|21 hrs and 50 mins|Unabridged Audiobook|Science Fiction &...|   4.8|             36539.0|$31.49 |2021-05-01|          31.14|\n",
      "|2021-05-01 00:00:40|9901d75d|    788|             Jamaica|        Freakonomics|     Revised Edition|  Steven D. Levitt|  Stephen J. Dubner| 7 hrs and 51 mins|Unabridged Audiobook|     Money & Finance|   4.4|             11050.0|$27.37 |2021-05-01|          31.14|\n",
      "|2021-05-01 00:00:46|790ad1df|    524|         New Zealand|     The Kite Runner|                null|   Khaled Hosseini|    Khaled Hosseini|  12 hrs and 1 min|Unabridged Audiobook|Literature & Fiction|   4.6|             16164.0|$31.93 |2021-05-01|          31.14|\n",
      "|2021-05-01 00:00:47|980adb4b|     74|     United Kingdom |                Dune|                null|     Frank Herbert|        Scott Brick| 21 hrs and 2 mins|Unabridged Audiobook|Science Fiction &...|   4.6|             73222.0|$47.93 |2021-05-01|          31.14|\n",
      "|2021-05-01 00:00:48|648070f7|    771|             Austria|       The Stone Sky|                null|     N. K. Jemisin|        Robin Miles|14 hrs and 16 mins|Unabridged Audiobook|Literature & Fiction|   4.6|             10045.0|$28.50 |2021-05-01|          31.14|\n",
      "|2021-05-01 00:00:52|69516255|    558|         South Korea|Harry Potter and ...|                null|      J.K. Rowling|           Jim Dale|18 hrs and 32 mins|Unabridged Audiobook|Children's Audiob...|   4.9|             72599.0|$44.99 |2021-05-01|          31.14|\n",
      "|2021-05-01 00:01:00|baf598c3|   1429|         Philippines|          11/22/1963|             A Novel|      Stephen King|       Craig Wasson|30 hrs and 40 mins|Unabridged Audiobook|Mystery, Thriller...|   4.6|             59283.0|$52.50 |2021-05-01|          31.14|\n",
      "|2021-05-01 00:01:02|4c9c8d9b|    221|         Netherlands|Where the Crawdad...|                null|       Delia Owens| Cassandra Campbell|12 hrs and 12 mins|Unabridged Audiobook|Literature & Fiction|   4.8|            191898.0|$31.50 |2021-05-01|          31.14|\n",
      "|2021-05-01 00:01:03|72a6267e|     70|          Montenegro|The Midnight Library|             A Novel|         Matt Haig|     Carey Mulligan| 8 hrs and 50 mins|Unabridged Audiobook|Science Fiction &...|   4.6|             21253.0|$28.00 |2021-05-01|          31.14|\n",
      "+-------------------+--------+-------+--------------------+--------------------+--------------------+------------------+-------------------+------------------+--------------------+--------------------+------+--------------------+-------+----------+---------------+\n",
      "only showing top 20 rows\n",
      "\n"
     ]
    }
   ],
   "source": [
    "df = df.join(temp,df.date==temp.join_temp,\"left\")\n",
    "df = df.drop('join_temp')\n",
    "df.show()"
   ]
  },
  {
   "cell_type": "code",
   "execution_count": 7,
   "id": "4c41aeaf",
   "metadata": {},
   "outputs": [
    {
     "name": "stdout",
     "output_type": "stream",
     "text": [
      "+-------------------+--------+-------+--------------------+--------------------+--------------------+------------------+-------------------+------------------+--------------------+--------------------+------+--------------------+-----+----------+---------------+\n",
      "|          timestamp| user_id|book_id|             country|          Book Title|       Book Subtitle|       Book Author|      Book Narrator|     Audio Runtime|      Audiobook_Type|          Categories|Rating|Total No. of Ratings|Price|      date|conversion_rate|\n",
      "+-------------------+--------+-------+--------------------+--------------------+--------------------+------------------+-------------------+------------------+--------------------+--------------------+------+--------------------+-----+----------+---------------+\n",
      "|2021-05-01 00:00:01|ad8eca41|   1584|            Portugal|        Sycamore Row|                null|      John Grisham|       Michael Beck|20 hrs and 46 mins|Unabridged Audiobook|Mystery, Thriller...|   4.6|             25863.0| 35.0|2021-05-01|          31.14|\n",
      "|2021-05-01 00:00:03|561b26c1|    829|United States of ...|The 5 Love Langua...|The Secret to Lov...|      Gary Chapman|        Chris Fabry| 5 hrs and 48 mins|Unabridged Audiobook|Relationships, Pa...|   4.8|              2441.0|19.59|2021-05-01|          31.14|\n",
      "|2021-05-01 00:00:04|81f149e5|   1391|               Japan|       The Guardians|             A Novel|      John Grisham|       Michael Beck|11 hrs and 50 mins|Unabridged Audiobook|Mystery, Thriller...|   4.6|             26781.0| 31.5|2021-05-01|          31.14|\n",
      "|2021-05-01 00:00:07|4f218413|   1586|              Taiwan|  How to Be a 3% Man|                null|       Corey Wayne|        Corey Wayne| 7 hrs and 33 mins|Unabridged Audiobook|Relationships, Pa...|   4.8|             11459.0|19.95|2021-05-01|          31.14|\n",
      "|2021-05-01 00:00:18|a4066781|    300|United States of ...|Napoleon Hill's O...|The Secret to Fre...|     Napoleon Hill|    Dan John Miller| 5 hrs and 51 mins|Unabridged Audiobook|  Business & Careers|   4.8|              9305.0|17.49|2021-05-01|          31.14|\n",
      "|2021-05-01 00:00:21|bbbd603a|   1377|United States of ...|       The Institute|             A Novel|      Stephen King|    Santino Fontana|18 hrs and 59 mins|Unabridged Audiobook|Literature & Fiction|   4.6|             35443.0|34.99|2021-05-01|          31.14|\n",
      "|2021-05-01 00:00:22|f636754b|    342|              Canada|    A Clash of Kings|A Song of Ice and...|George R.R. Martin|        Roy Dotrice|37 hrs and 12 mins|Unabridged Audiobook|Science Fiction &...|   4.8|             79031.0| 63.0|2021-05-01|          31.14|\n",
      "|2021-05-01 00:00:26|0eea4bbd|   1600|United States of ...|               Exile|Legend of Drizzt:...|   R. A. Salvatore|      Victor Bevine|10 hrs and 42 mins|Unabridged Audiobook|Science Fiction &...|   4.7|              9241.0|24.95|2021-05-01|          31.14|\n",
      "|2021-05-01 00:00:26|30b900d5|   1556|             Algeria|Arcanum Unbounded...|                null| Brandon Sanderson|     Michael Kramer|22 hrs and 31 mins|Unabridged Audiobook|Literature & Fiction|   4.8|             14108.0|48.99|2021-05-01|          31.14|\n",
      "|2021-05-01 00:00:28|a208d42a|    790|United States of ...|         Dark Matter|             A Novel|      Blake Crouch|      Jon Lindstrom| 10 hrs and 8 mins|Unabridged Audiobook|Mystery, Thriller...|   4.4|             23618.0| 28.0|2021-05-01|          31.14|\n",
      "|2021-05-01 00:00:31|1d4e0721|    630|              Canada|    The Final Empire|     Mistborn Book 1| Brandon Sanderson|     Michael Kramer|24 hrs and 39 mins|Unabridged Audiobook|Science Fiction &...|   4.8|             65789.0|55.93|2021-05-01|          31.14|\n",
      "|2021-05-01 00:00:34|9711795f|   1561|              France|        Morning Star|Book III of the R...|      Pierce Brown|Tim Gerard Reynolds|21 hrs and 50 mins|Unabridged Audiobook|Science Fiction &...|   4.8|             36539.0|31.49|2021-05-01|          31.14|\n",
      "|2021-05-01 00:00:40|9901d75d|    788|             Jamaica|        Freakonomics|     Revised Edition|  Steven D. Levitt|  Stephen J. Dubner| 7 hrs and 51 mins|Unabridged Audiobook|     Money & Finance|   4.4|             11050.0|27.37|2021-05-01|          31.14|\n",
      "|2021-05-01 00:00:46|790ad1df|    524|         New Zealand|     The Kite Runner|                null|   Khaled Hosseini|    Khaled Hosseini|  12 hrs and 1 min|Unabridged Audiobook|Literature & Fiction|   4.6|             16164.0|31.93|2021-05-01|          31.14|\n",
      "|2021-05-01 00:00:47|980adb4b|     74|     United Kingdom |                Dune|                null|     Frank Herbert|        Scott Brick| 21 hrs and 2 mins|Unabridged Audiobook|Science Fiction &...|   4.6|             73222.0|47.93|2021-05-01|          31.14|\n",
      "|2021-05-01 00:00:48|648070f7|    771|             Austria|       The Stone Sky|                null|     N. K. Jemisin|        Robin Miles|14 hrs and 16 mins|Unabridged Audiobook|Literature & Fiction|   4.6|             10045.0| 28.5|2021-05-01|          31.14|\n",
      "|2021-05-01 00:00:52|69516255|    558|         South Korea|Harry Potter and ...|                null|      J.K. Rowling|           Jim Dale|18 hrs and 32 mins|Unabridged Audiobook|Children's Audiob...|   4.9|             72599.0|44.99|2021-05-01|          31.14|\n",
      "|2021-05-01 00:01:00|baf598c3|   1429|         Philippines|          11/22/1963|             A Novel|      Stephen King|       Craig Wasson|30 hrs and 40 mins|Unabridged Audiobook|Mystery, Thriller...|   4.6|             59283.0| 52.5|2021-05-01|          31.14|\n",
      "|2021-05-01 00:01:02|4c9c8d9b|    221|         Netherlands|Where the Crawdad...|                null|       Delia Owens| Cassandra Campbell|12 hrs and 12 mins|Unabridged Audiobook|Literature & Fiction|   4.8|            191898.0| 31.5|2021-05-01|          31.14|\n",
      "|2021-05-01 00:01:03|72a6267e|     70|          Montenegro|The Midnight Library|             A Novel|         Matt Haig|     Carey Mulligan| 8 hrs and 50 mins|Unabridged Audiobook|Science Fiction &...|   4.6|             21253.0| 28.0|2021-05-01|          31.14|\n",
      "+-------------------+--------+-------+--------------------+--------------------+--------------------+------------------+-------------------+------------------+--------------------+--------------------+------+--------------------+-----+----------+---------------+\n",
      "only showing top 20 rows\n",
      "\n"
     ]
    }
   ],
   "source": [
    "# remove $ and change data type to float\n",
    "df = df.withColumn('Price', regexp_replace('Price', '^\\W{1}', ''))\n",
    "df = df.withColumn('Price',df.Price.cast('float'))\n",
    "df.show()"
   ]
  },
  {
   "cell_type": "code",
   "execution_count": 13,
   "id": "630dc374",
   "metadata": {},
   "outputs": [],
   "source": [
    "# Create THB column\n",
    "df.withColumn('THBPrice',df.Price*df.conversion_rate).show()\n",
    "# drop date column\n",
    "df = df.drop('date')"
   ]
  },
  {
   "cell_type": "code",
   "execution_count": 30,
   "id": "e431ff40",
   "metadata": {},
   "outputs": [
    {
     "name": "stderr",
     "output_type": "stream",
     "text": [
      "                                                                                \r"
     ]
    }
   ],
   "source": [
    "df.write.csv('gs://process-data-bucket/output/audible_data.csv', header = True)"
   ]
  },
  {
   "cell_type": "code",
   "execution_count": 14,
   "id": "ae14b2f0",
   "metadata": {},
   "outputs": [
    {
     "data": {
      "text/plain": [
       "[('timestamp', 'timestamp'),\n",
       " ('user_id', 'string'),\n",
       " ('book_id', 'int'),\n",
       " ('country', 'string'),\n",
       " ('Book Title', 'string'),\n",
       " ('Book Subtitle', 'string'),\n",
       " ('Book Author', 'string'),\n",
       " ('Book Narrator', 'string'),\n",
       " ('Audio Runtime', 'string'),\n",
       " ('Audiobook_Type', 'string'),\n",
       " ('Categories', 'string'),\n",
       " ('Rating', 'string'),\n",
       " ('Total No. of Ratings', 'double'),\n",
       " ('Price', 'float'),\n",
       " ('conversion_rate', 'double')]"
      ]
     },
     "execution_count": 14,
     "metadata": {},
     "output_type": "execute_result"
    }
   ],
   "source": [
    "df.dtypes"
   ]
  }
 ],
 "metadata": {
  "kernelspec": {
   "display_name": "PySpark",
   "language": "python",
   "name": "pyspark"
  },
  "language_info": {
   "codemirror_mode": {
    "name": "ipython",
    "version": 3
   },
   "file_extension": ".py",
   "mimetype": "text/x-python",
   "name": "python",
   "nbconvert_exporter": "python",
   "pygments_lexer": "ipython3",
   "version": "3.8.15"
  }
 },
 "nbformat": 4,
 "nbformat_minor": 5
}